{
 "cells": [
  {
   "cell_type": "code",
   "execution_count": 70,
   "id": "963941bb-a302-42f5-a753-20f119e675fd",
   "metadata": {},
   "outputs": [
    {
     "ename": "IndentationError",
     "evalue": "unindent does not match any outer indentation level (<string>, line 45)",
     "output_type": "error",
     "traceback": [
      "\u001b[1;36m  File \u001b[1;32m<string>:45\u001b[1;36m\u001b[0m\n\u001b[1;33m    def questions(self, year, make, model, doornum, roof):\u001b[0m\n\u001b[1;37m                                                          ^\u001b[0m\n\u001b[1;31mIndentationError\u001b[0m\u001b[1;31m:\u001b[0m unindent does not match any outer indentation level\n"
     ]
    }
   ],
   "source": [
    "\"\"\"\n",
    "Name: Lauren Davis\n",
    "File Name: Mod3Lab.ipynb\n",
    "Description: This program takes user input describing a car (year, make, model, amount of doors, and type of roof) and prints them in an easy to read format.\n",
    "Variables: \n",
    "truck, plane, boat, broomstick are all types of vehicles present in the super class but are not used beyond that\n",
    "car is the vehicle type that is \n",
    "year is the year the car was made in\n",
    "make is the make of the car \n",
    "model is the car's model\n",
    "doornum is the number of doors that the car has\n",
    "roof is the type of roof that the car has\"\"\"\n",
    "\n",
    "class Vehicle:\n",
    "    def __init__(self, type, car, truck, plane, boat, broomstick):\n",
    "        self.type=type\n",
    "        self.car= car\n",
    "        self.truck= truck\n",
    "        self.plane=plane\n",
    "        self.boat=boat\n",
    "        self.broomstick=broomstick\n",
    "       \n",
    "    def type_testing(self, type, car, truck, plane, boat, broomstick):\n",
    "        type=input(\"What type of vehicle is it?\")\n",
    "       \n",
    "            \n",
    "\n",
    "    \n",
    "class Automobile(Vehicle):\n",
    "   def __init__(self, year, make, model, doornum, roof,type, car, truck, plane, boat, broomstick):\n",
    "        super().__init__(type, car, truck, plane, boat, broomstick)\n",
    "        self.year=year\n",
    "        self.make=make\n",
    "        self.model=model\n",
    "        self.doornum=doornum #2 or 4\n",
    "        self.roof=roof #solid or sun roof\n",
    "       \n",
    "    def questions(self, year, make, model, doornum, roof):\n",
    "        year = input(\"Enter year of the car: \")\n",
    "        make =input(\"Enter make of the car: \")\n",
    "        model = input(\"Enter model of the car: \")\n",
    "        doornum= input(\"How many doors does the car have?(2 or 4): \")\n",
    "        roof= input(\"What kind of roof does the car have?(solid or sun roof): \")\n",
    "\n",
    "vehicle= Automobile(super().__init__,year, make, model, doornum, roof) #create an object for class Automobile \n",
    "\n",
    "vehicle.questions()\n",
    "print(f\"Vehicle type: {vehicle.type}\")\n",
    "print(f\"Year: {vehicle.year}\")\n",
    "print(f\"Make: {vehicle.make}\")\n",
    "print(f\"Model: {vehicle.model}\")\n",
    "print(f\"Number of doors: {vehicle.doornum}\")\n",
    "print(f\"Roof type: {vehicle.roof}\")\n",
    "\n",
    "\n",
    "    "
   ]
  },
  {
   "cell_type": "code",
   "execution_count": null,
   "id": "f6e32487-dbfb-4da8-8b20-e655d6bc60c6",
   "metadata": {},
   "outputs": [],
   "source": []
  }
 ],
 "metadata": {
  "kernelspec": {
   "display_name": "Python 3 (ipykernel)",
   "language": "python",
   "name": "python3"
  },
  "language_info": {
   "codemirror_mode": {
    "name": "ipython",
    "version": 3
   },
   "file_extension": ".py",
   "mimetype": "text/x-python",
   "name": "python",
   "nbconvert_exporter": "python",
   "pygments_lexer": "ipython3",
   "version": "3.12.4"
  }
 },
 "nbformat": 4,
 "nbformat_minor": 5
}
